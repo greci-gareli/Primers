{
  "nbformat": 4,
  "nbformat_minor": 0,
  "metadata": {
    "colab": {
      "provenance": [],
      "authorship_tag": "ABX9TyMyIThJf24nnVmh2PrOaFt8",
      "include_colab_link": true
    },
    "kernelspec": {
      "name": "python3",
      "display_name": "Python 3"
    },
    "language_info": {
      "name": "python"
    }
  },
  "cells": [
    {
      "cell_type": "markdown",
      "metadata": {
        "id": "view-in-github",
        "colab_type": "text"
      },
      "source": [
        "<a href=\"https://colab.research.google.com/github/greci-gareli/Primers/blob/main/Search.ipynb\" target=\"_parent\"><img src=\"https://colab.research.google.com/assets/colab-badge.svg\" alt=\"Open In Colab\"/></a>"
      ]
    },
    {
      "cell_type": "markdown",
      "source": [
        "🔬 Primers searcher\n",
        "\n",
        "🐭 Developer: Grecia García Elizalde\n",
        "\n",
        "📅 Date: September 20, 2023"
      ],
      "metadata": {
        "id": "LIqdYWJy0u4I"
      }
    },
    {
      "cell_type": "markdown",
      "source": [
        "1. Installing packages"
      ],
      "metadata": {
        "id": "yl9LlsoI2nOj"
      }
    },
    {
      "cell_type": "code",
      "execution_count": 3,
      "metadata": {
        "colab": {
          "base_uri": "https://localhost:8080/"
        },
        "id": "TtL_Pec10tPr",
        "outputId": "1cf7a4ed-6231-4d74-9320-0c14787a41b8"
      },
      "outputs": [
        {
          "output_type": "stream",
          "name": "stdout",
          "text": [
            "Collecting biopython\n",
            "  Downloading biopython-1.81-cp310-cp310-manylinux_2_17_x86_64.manylinux2014_x86_64.whl (3.1 MB)\n",
            "\u001b[2K     \u001b[90m━━━━━━━━━━━━━━━━━━━━━━━━━━━━━━━━━━━━━━━━\u001b[0m \u001b[32m3.1/3.1 MB\u001b[0m \u001b[31m37.8 MB/s\u001b[0m eta \u001b[36m0:00:00\u001b[0m\n",
            "\u001b[?25hRequirement already satisfied: numpy in /usr/local/lib/python3.10/dist-packages (from biopython) (1.23.5)\n",
            "Installing collected packages: biopython\n",
            "Successfully installed biopython-1.81\n",
            "Collecting colorama\n",
            "  Downloading colorama-0.4.6-py2.py3-none-any.whl (25 kB)\n",
            "Installing collected packages: colorama\n",
            "Successfully installed colorama-0.4.6\n"
          ]
        }
      ],
      "source": [
        "try:\n",
        "    import google.colab\n",
        "    !pip install biopython #Biopython\n",
        "    !pip install colorama #Colorama\n",
        "\n",
        "except ImportError:\n",
        "    pass"
      ]
    },
    {
      "cell_type": "markdown",
      "source": [
        "2. Importing libraries"
      ],
      "metadata": {
        "id": "VGr7kS_a3dx-"
      }
    },
    {
      "cell_type": "code",
      "source": [
        "#Import the general libraries\n",
        "import os\n",
        "import sys\n",
        "from urllib.request import urlretrieve\n",
        "import pandas as pd\n",
        "from IPython.lib.display import join\n",
        "\n",
        "#Import the biopython libraries\n",
        "import Bio\n",
        "from Bio import Align\n",
        "from colorama import Fore\n",
        "from Bio.Seq import Seq"
      ],
      "metadata": {
        "id": "Ob7eZZxq3jag"
      },
      "execution_count": 4,
      "outputs": []
    },
    {
      "cell_type": "markdown",
      "source": [
        "3. Open the database"
      ],
      "metadata": {
        "id": "mNOgjbck5hZx"
      }
    },
    {
      "cell_type": "code",
      "source": [
        "#Open Google colab\n",
        "from google.colab import drive\n",
        "drive.mount('/content/drive')\n",
        "\n",
        "#Open database\n",
        "url = 'https://docs.google.com/spreadsheets/d/1CKstHZH_MQkDiwTah_j9TP_ylUO8h4ztGNH7AQD_48o/export?format=csv'\n",
        "df = pd.read_csv(url)"
      ],
      "metadata": {
        "colab": {
          "base_uri": "https://localhost:8080/"
        },
        "id": "KebPn6j55h4v",
        "outputId": "7a371c12-3617-4083-96e9-b0d7bead9079"
      },
      "execution_count": 5,
      "outputs": [
        {
          "output_type": "stream",
          "name": "stdout",
          "text": [
            "Mounted at /content/drive\n"
          ]
        }
      ]
    },
    {
      "cell_type": "markdown",
      "source": [
        "4. Making the alignment"
      ],
      "metadata": {
        "id": "A8_SzaAD-xjt"
      }
    },
    {
      "cell_type": "code",
      "source": [
        "print(\"Hey! I see you're doing some PCRs lets do it together\") #Initial message\n",
        "\n",
        "print(\"\")\n",
        "print(\"\")\n",
        "\n",
        "ty= input('Are you looking for forward or reverse primers?\\n').lower() #Select the type of primer that you want to try\n",
        "\n",
        "print(\"\")\n",
        "\n",
        "seq1=input('What is your sequence?\\n').lower() #Ask for the sequence that you want to try\n",
        "seq2=\"\"\n",
        "datanum=-1\n",
        "ppair=0"
      ],
      "metadata": {
        "colab": {
          "base_uri": "https://localhost:8080/"
        },
        "id": "E4Duyq-y-7kM",
        "outputId": "4f86f353-f751-4e5d-c470-c2eb706105ef"
      },
      "execution_count": 6,
      "outputs": [
        {
          "name": "stdout",
          "output_type": "stream",
          "text": [
            "Hey! I see you're doing some PCRs lets do it together\n",
            "\n",
            "\n",
            "Are you looking for forward or reverse primers?\n",
            "reverse\n",
            "\n",
            "What is your sequence?\n",
            "agagagaga\n"
          ]
        }
      ]
    },
    {
      "cell_type": "code",
      "source": [
        "print(\"Hey! I see you're doing some PCRs lets do it together\") #Initial message\n",
        "\n",
        "print(\"\")\n",
        "print(\"\")\n",
        "\n",
        "seq1=Seq(input('What is your sequence?\\n').lower()) #Ask for the sequence that you want to try\n",
        "\n",
        "print(\"\")\n",
        "print(\"\")\n",
        "\n",
        "seq2 = \" \" #Add the second sequence that is in the database\n",
        "seq1rev= seq1.reverse_complement()\n",
        "\n",
        "datanumfor = 0 #This will serve as the counter for the forward\n",
        "datanumrev = 0 #This will serve as the counter for the reverse\n",
        "\n",
        "ppairfor = 0 # This will serve as the counter for the forward\n",
        "ppairrev = 0 # This will serve as the counter for the reverse\n",
        "\n",
        "print(\"\")\n",
        "print(Fore.RED + \"General details\")\n",
        "print(Fore.WHITE + \"Lenght of the sequence:\", len(seq1))\n",
        "print(\"Sequence:\", seq1)\n",
        "print(\"Reverse complement:\", seq1rev)\n",
        "print(\"\")\n",
        "print(\"\")\n",
        "\n"
      ],
      "metadata": {
        "colab": {
          "base_uri": "https://localhost:8080/"
        },
        "id": "wzeo5IUd_Qe8",
        "outputId": "9566d095-0a3a-4685-9a52-6fbf40624478"
      },
      "execution_count": 10,
      "outputs": [
        {
          "output_type": "stream",
          "name": "stdout",
          "text": [
            "Hey! I see you're doing some PCRs lets do it together\n",
            "\n",
            "\n",
            "What is your sequence?\n",
            "AGAGAGAGAGA\n",
            "\n",
            "\n",
            "\n",
            "\u001b[31mGeneral details\n",
            "\u001b[37mLenght of the sequence: 11\n",
            "Sequence: agagagagaga\n",
            "Reverse complement: tctctctctct\n",
            "\n",
            "\n"
          ]
        }
      ]
    }
  ]
}